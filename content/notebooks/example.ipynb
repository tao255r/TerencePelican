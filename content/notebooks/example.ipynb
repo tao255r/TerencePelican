{
 "cells": [
  {
   "cell_type": "code",
   "execution_count": 2,
   "metadata": {
    "collapsed": true
   },
   "outputs": [],
   "source": [
    "\"\"\"\n",
    "Project Name: Random Forest\n",
    "\n",
    "Created on Fri Nov 13 09:17:12 2015\n",
    "\n",
    "@author: TTao\n",
    "\"\"\"\n",
    "\n",
    "import numpy as np\n",
    "from pandas import read_csv\n",
    "import pandas as pd\n",
    "from patsy import dmatrices\n",
    "import matplotlib.pyplot as plt"
   ]
  },
  {
   "cell_type": "code",
   "execution_count": 3,
   "metadata": {
    "collapsed": true
   },
   "outputs": [],
   "source": [
    "df=read_csv('C:/Users/TTao/Documents/001_Project/001_11012015_New Probability Renewal/testing.csv')"
   ]
  },
  {
   "cell_type": "code",
   "execution_count": 4,
   "metadata": {
    "collapsed": false
   },
   "outputs": [
    {
     "name": "stdout",
     "output_type": "stream",
     "text": [
      "129918\n",
      "32539\n"
     ]
    }
   ],
   "source": [
    "# Data partition\n",
    "df1 = pd.DataFrame(np.random.randn(len(df),2))\n",
    "msk = np.random.rand(len(df)) <= 0.8\n",
    "df_train = df[msk]\n",
    "df_test = df[~msk]\n",
    "\n",
    "print len(df_train)\n",
    "print len(df_test)"
   ]
  },
  {
   "cell_type": "code",
   "execution_count": 5,
   "metadata": {
    "collapsed": true
   },
   "outputs": [],
   "source": [
    "# create dataframes with an intercept column and dummy variables \n",
    "y_train, X_train = dmatrices('renewed ~ C(regionname) + numberofstories + C(markettype) + constructionyear + unitscount + unittypetotalunitcount + stabilizationdatetonow + \\\n",
    "                  term + C(bedrooms) + squarefootage + ratetype + C(expmonth) + los', df_train, return_type=\"dataframe\")\n",
    "\n",
    "y_test, X_test = dmatrices('renewed ~ C(regionname) + numberofstories + C(markettype) + constructionyear + unitscount + unittypetotalunitcount + stabilizationdatetonow + \\\n",
    "                  term + C(bedrooms) + squarefootage + ratetype + C(expmonth) + los', df_test, return_type=\"dataframe\")"
   ]
  },
  {
   "cell_type": "code",
   "execution_count": 6,
   "metadata": {
    "collapsed": false
   },
   "outputs": [
    {
     "name": "stdout",
     "output_type": "stream",
     "text": [
      "Index([u'Intercept', u'C(regionname)[T.NORTHEAST]', u'C(regionname)[T.SOUTH]',\n",
      "       u'C(regionname)[T.WEST]', u'C(markettype)[T.SECONDARY]',\n",
      "       u'C(markettype)[T.TERTIARY]', u'C(bedrooms)[T.1]', u'C(bedrooms)[T.2]',\n",
      "       u'C(bedrooms)[T.3]', u'C(bedrooms)[T.4]', u'C(bedrooms)[T.5]',\n",
      "       u'C(expmonth)[T.2]', u'C(expmonth)[T.3]', u'C(expmonth)[T.4]',\n",
      "       u'C(expmonth)[T.5]', u'C(expmonth)[T.6]', u'C(expmonth)[T.7]',\n",
      "       u'C(expmonth)[T.8]', u'C(expmonth)[T.9]', u'C(expmonth)[T.10]',\n",
      "       u'C(expmonth)[T.11]', u'C(expmonth)[T.12]', u'numberofstories',\n",
      "       u'constructionyear', u'unitscount', u'unittypetotalunitcount',\n",
      "       u'stabilizationdatetonow', u'term', u'squarefootage', u'ratetype',\n",
      "       u'los'],\n",
      "      dtype='object')\n"
     ]
    }
   ],
   "source": [
    "print X_train.columns\n",
    "\n",
    "# flatten y into a 1-D array\n",
    "y_train = np.ravel(y_train)\n",
    "y_test = np.ravel(y_test)"
   ]
  },
  {
   "cell_type": "code",
   "execution_count": 11,
   "metadata": {
    "collapsed": false
   },
   "outputs": [
    {
     "name": "stdout",
     "output_type": "stream",
     "text": [
      "0.569163158056\n",
      "0.563124432334\n"
     ]
    }
   ],
   "source": [
    "# Gaussian Naive Bayes\n",
    "from sklearn.naive_bayes import GaussianNB\n",
    "\n",
    "clf = GaussianNB()\n",
    "result = clf.fit(X_test,y_test)\n",
    "\n",
    "print result.score(X_test,y_test)\n",
    "print result.score(X_train,y_train)"
   ]
  },
  {
   "cell_type": "code",
   "execution_count": 13,
   "metadata": {
    "collapsed": false
   },
   "outputs": [
    {
     "name": "stdout",
     "output_type": "stream",
     "text": [
      "0.594148560189\n",
      "0.593335796425\n"
     ]
    }
   ],
   "source": [
    "# Multinomial Naive Bayes\n",
    "# MultinomialNB implements the naive Bayes algorithm for multinomially distributed data, \n",
    "# and is one of the two classic naive Bayes variants used in text classification \n",
    "# (where the data are typically represented as word vector counts, although tf-idf vectors are also known to work well \n",
    "# in practice). \n",
    "from sklearn.naive_bayes import MultinomialNB\n",
    "\n",
    "clf = MultinomialNB()\n",
    "result = clf.fit(X_test,y_test)\n",
    "\n",
    "print result.score(X_test,y_test)\n",
    "print result.score(X_train,y_train)"
   ]
  },
  {
   "cell_type": "code",
   "execution_count": 15,
   "metadata": {
    "collapsed": false
   },
   "outputs": [
    {
     "name": "stdout",
     "output_type": "stream",
     "text": [
      "0.577153569563\n",
      "0.573992826244\n"
     ]
    }
   ],
   "source": [
    "# Bernoulli Naive Bayes\n",
    "# BernoulliNB implements the naive Bayes training and classification algorithms for data \n",
    "# that is distributed according to multivariate Bernoulli distributions.\n",
    "from sklearn.naive_bayes import BernoulliNB\n",
    "\n",
    "clf = BernoulliNB()\n",
    "result = clf.fit(X_test,y_test)\n",
    "\n",
    "print result.score(X_test,y_test)\n",
    "print result.score(X_train,y_train)"
   ]
  },
  {
   "cell_type": "code",
   "execution_count": 19,
   "metadata": {
    "collapsed": false
   },
   "outputs": [
    {
     "name": "stdout",
     "output_type": "stream",
     "text": [
      "0.68619195427\n",
      "0.598762296218\n"
     ]
    }
   ],
   "source": [
    "# Nearest Neighbors Classification\n",
    "\n",
    "from sklearn.neighbors import KNeighborsClassifier\n",
    "\n",
    "clf = KNeighborsClassifier(n_neighbors=10)\n",
    "result = clf.fit(X_test,y_test)\n",
    "\n",
    "print result.score(X_test,y_test)\n",
    "print result.score(X_train,y_train)"
   ]
  },
  {
   "cell_type": "code",
   "execution_count": null,
   "metadata": {
    "collapsed": false
   },
   "outputs": [],
   "source": []
  },
  {
   "cell_type": "code",
   "execution_count": 33,
   "metadata": {
    "collapsed": false
   },
   "outputs": [
    {
     "name": "stdout",
     "output_type": "stream",
     "text": [
      "0.994990626633\n",
      "0.536692375191\n"
     ]
    }
   ],
   "source": [
    "# Stochastic Gradient Descent\n",
    "\n",
    "from sklearn import svm\n",
    "\n",
    "clf = svm.SVC()\n",
    "#result = clf.fit(X_test,y_test)\n",
    "\n",
    "print result.score(X_test,y_test)\n",
    "print result.score(X_train,y_train)"
   ]
  }
 ],
 "metadata": {
  "kernelspec": {
   "display_name": "Python 2",
   "language": "python",
   "name": "python2"
  },
  "language_info": {
   "codemirror_mode": {
    "name": "ipython",
    "version": 2
   },
   "file_extension": ".py",
   "mimetype": "text/x-python",
   "name": "python",
   "nbconvert_exporter": "python",
   "pygments_lexer": "ipython2",
   "version": "2.7.10"
  }
 },
 "nbformat": 4,
 "nbformat_minor": 0
}
